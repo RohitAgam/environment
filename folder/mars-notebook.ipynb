{
  "cells": [
    {
      "cell_type": "code",
      "execution_count": 51,
      "metadata": {
        "id": "QpQ7ESFvWw_-"
      },
      "outputs": [],
      "source": [
        "import numpy as np\n",
        "import pandas as pd\n",
        "from sklearn.linear_model import LinearRegression\n",
        "from pyearth import Earth\n",
        "from sklearn.metrics import r2_score\n",
        "from sklearn.metrics import mean_squared_error\n",
        "import warnings\n",
        "import matplotlib.pyplot as plt"
      ]
    },
    {
      "cell_type": "code",
      "execution_count": 52,
      "metadata": {
        "id": "YlE0WD3UZkaL"
      },
      "outputs": [],
      "source": [
        "warnings.filterwarnings(\"ignore\")"
      ]
    },
    {
      "cell_type": "code",
      "execution_count": 53,
      "metadata": {
        "id": "8jpM_x4KW7Q7"
      },
      "outputs": [],
      "source": [
        "df = pd.read_csv(\"Data.csv\")"
      ]
    },
    {
      "cell_type": "code",
      "execution_count": 54,
      "metadata": {
        "colab": {
          "base_uri": "https://localhost:8080/",
          "height": 202
        },
        "id": "QbVJFa56XW98",
        "outputId": "fdf5d648-7447-4ba1-f5eb-64dfea89aa7e"
      },
      "outputs": [
        {
          "data": {
            "text/html": [
              "<div>\n",
              "<style scoped>\n",
              "    .dataframe tbody tr th:only-of-type {\n",
              "        vertical-align: middle;\n",
              "    }\n",
              "\n",
              "    .dataframe tbody tr th {\n",
              "        vertical-align: top;\n",
              "    }\n",
              "\n",
              "    .dataframe thead th {\n",
              "        text-align: right;\n",
              "    }\n",
              "</style>\n",
              "<table border=\"1\" class=\"dataframe\">\n",
              "  <thead>\n",
              "    <tr style=\"text-align: right;\">\n",
              "      <th></th>\n",
              "      <th>TV</th>\n",
              "      <th>radio</th>\n",
              "      <th>newspaper</th>\n",
              "      <th>sales</th>\n",
              "    </tr>\n",
              "  </thead>\n",
              "  <tbody>\n",
              "    <tr>\n",
              "      <th>0</th>\n",
              "      <td>230.1</td>\n",
              "      <td>37.8</td>\n",
              "      <td>69.2</td>\n",
              "      <td>22.1</td>\n",
              "    </tr>\n",
              "    <tr>\n",
              "      <th>1</th>\n",
              "      <td>44.5</td>\n",
              "      <td>39.3</td>\n",
              "      <td>45.1</td>\n",
              "      <td>10.4</td>\n",
              "    </tr>\n",
              "    <tr>\n",
              "      <th>2</th>\n",
              "      <td>17.2</td>\n",
              "      <td>45.9</td>\n",
              "      <td>69.3</td>\n",
              "      <td>9.3</td>\n",
              "    </tr>\n",
              "    <tr>\n",
              "      <th>3</th>\n",
              "      <td>151.5</td>\n",
              "      <td>41.3</td>\n",
              "      <td>58.5</td>\n",
              "      <td>18.5</td>\n",
              "    </tr>\n",
              "    <tr>\n",
              "      <th>4</th>\n",
              "      <td>180.8</td>\n",
              "      <td>10.8</td>\n",
              "      <td>58.4</td>\n",
              "      <td>12.9</td>\n",
              "    </tr>\n",
              "  </tbody>\n",
              "</table>\n",
              "</div>"
            ],
            "text/plain": [
              "      TV  radio  newspaper  sales\n",
              "0  230.1   37.8       69.2   22.1\n",
              "1   44.5   39.3       45.1   10.4\n",
              "2   17.2   45.9       69.3    9.3\n",
              "3  151.5   41.3       58.5   18.5\n",
              "4  180.8   10.8       58.4   12.9"
            ]
          },
          "execution_count": 54,
          "metadata": {},
          "output_type": "execute_result"
        }
      ],
      "source": [
        "df.head(5)"
      ]
    },
    {
      "cell_type": "code",
      "execution_count": 55,
      "metadata": {
        "id": "AdNkAL-VXlDC"
      },
      "outputs": [],
      "source": [
        "target_col = \"sales\"\n",
        "X = df.loc[:, ['radio']]\n",
        "y = df.loc[:, target_col]"
      ]
    },
    {
      "cell_type": "markdown",
      "metadata": {
        "id": "8cSQ-aaZY-Lv"
      },
      "source": [
        "# Linear Regression Model"
      ]
    },
    {
      "cell_type": "code",
      "execution_count": 56,
      "metadata": {
        "id": "h1zJS-dRXx-H"
      },
      "outputs": [],
      "source": [
        "LR_model = LinearRegression()"
      ]
    },
    {
      "cell_type": "code",
      "execution_count": 57,
      "metadata": {
        "id": "57ZZyHKJYGmP"
      },
      "outputs": [],
      "source": [
        "LR_Model_Fitted = LR_model.fit(X, y)"
      ]
    },
    {
      "cell_type": "code",
      "execution_count": 58,
      "metadata": {
        "colab": {
          "base_uri": "https://localhost:8080/"
        },
        "id": "vLc-HAQZYG5X",
        "outputId": "db9f630e-2810-4572-9fc0-28ac076bf6dc"
      },
      "outputs": [
        {
          "name": "stdout",
          "output_type": "stream",
          "text": [
            "Intercept:  9.311638095158283\n",
            "Slope:  [0.20249578]\n"
          ]
        }
      ],
      "source": [
        "print(\"Intercept: \", LR_Model_Fitted.intercept_)\n",
        "print(\"Slope: \", LR_Model_Fitted.coef_)"
      ]
    },
    {
      "cell_type": "code",
      "execution_count": 59,
      "metadata": {
        "id": "P_rnbsMkYZkR"
      },
      "outputs": [],
      "source": [
        "y_pred = LR_Model_Fitted.predict(X)"
      ]
    },
    {
      "cell_type": "code",
      "execution_count": 60,
      "metadata": {},
      "outputs": [
        {
          "data": {
            "text/plain": [
              "<Figure size 1440x864 with 0 Axes>"
            ]
          },
          "execution_count": 60,
          "metadata": {},
          "output_type": "execute_result"
        },
        {
          "data": {
            "image/png": "[encoded data removed]",
            "text/plain": [
              "<Figure size 432x288 with 1 Axes>"
            ]
          },
          "metadata": {
            "needs_background": "light"
          },
          "output_type": "display_data"
        },
        {
          "data": {
            "text/plain": [
              "<Figure size 1440x864 with 0 Axes>"
            ]
          },
          "metadata": {},
          "output_type": "display_data"
        }
      ],
      "source": [
        "plt.scatter(X, y,color='g')\n",
        "plt.plot(X, y_pred,color='k')\n",
        "plt.figure(figsize=(20,12))"
      ]
    },
    {
      "cell_type": "code",
      "execution_count": 61,
      "metadata": {
        "colab": {
          "base_uri": "https://localhost:8080/"
        },
        "id": "O1yPDLoKYKH8",
        "outputId": "7e60e354-6a4b-41f8-a99a-e2bbb6db856a"
      },
      "outputs": [
        {
          "data": {
            "text/plain": [
              "0.33203245544529525"
            ]
          },
          "execution_count": 61,
          "metadata": {},
          "output_type": "execute_result"
        }
      ],
      "source": [
        "r2_score(y, y_pred)"
      ]
    },
    {
      "cell_type": "code",
      "execution_count": 62,
      "metadata": {
        "colab": {
          "base_uri": "https://localhost:8080/"
        },
        "id": "-6p61BdqZWn1",
        "outputId": "d8227bab-eb9f-4606-a32d-69ad125ef644"
      },
      "outputs": [
        {
          "data": {
            "text/plain": [
              "18.09239774512544"
            ]
          },
          "execution_count": 62,
          "metadata": {},
          "output_type": "execute_result"
        }
      ],
      "source": [
        "mean_squared_error(y, y_pred)"
      ]
    },
    {
      "cell_type": "markdown",
      "metadata": {
        "id": "7BSBfpa4ZA1c"
      },
      "source": [
        "# MARS Regression Model"
      ]
    },
    {
      "cell_type": "code",
      "execution_count": 63,
      "metadata": {
        "id": "3TYmqhLIYf2c"
      },
      "outputs": [],
      "source": [
        "MARS_model = Earth(max_terms=500, max_degree=1)"
      ]
    },
    {
      "cell_type": "code",
      "execution_count": 64,
      "metadata": {
        "id": "TI9VY9maYi1P"
      },
      "outputs": [],
      "source": [
        "MARS_model_fitted = MARS_model.fit(X, y)"
      ]
    },
    {
      "cell_type": "code",
      "execution_count": 65,
      "metadata": {
        "id": "uXv3q1P9Ywpy"
      },
      "outputs": [],
      "source": [
        "y_pred_mars = MARS_model_fitted.predict(X)"
      ]
    },
    {
      "cell_type": "code",
      "execution_count": 66,
      "metadata": {},
      "outputs": [],
      "source": [
        "# print(MARS_model_fitted.trace())"
      ]
    },
    {
      "cell_type": "code",
      "execution_count": 67,
      "metadata": {},
      "outputs": [
        {
          "data": {
            "image/png": "[encoded data removed]",
            "text/plain": [
              "<Figure size 432x288 with 1 Axes>"
            ]
          },
          "metadata": {
            "needs_background": "light"
          },
          "output_type": "display_data"
        }
      ],
      "source": [
        "\n",
        "# Plot the model\n",
        "plt.figure()\n",
        "plt.plot(X, y, 'r.')\n",
        "plt.plot(X, y_pred_mars, 'b.')\n",
        "plt.show()"
      ]
    },
    {
      "cell_type": "code",
      "execution_count": 68,
      "metadata": {
        "colab": {
          "base_uri": "https://localhost:8080/"
        },
        "id": "PF-kaR1hY0VB",
        "outputId": "8f816172-1735-4c8f-9dba-bd3152f368a9"
      },
      "outputs": [
        {
          "data": {
            "text/plain": [
              "0.3326555638725176"
            ]
          },
          "execution_count": 68,
          "metadata": {},
          "output_type": "execute_result"
        }
      ],
      "source": [
        "r2_score(y, y_pred_mars)"
      ]
    },
    {
      "cell_type": "code",
      "execution_count": 69,
      "metadata": {
        "colab": {
          "base_uri": "https://localhost:8080/"
        },
        "id": "-iC1KX4jY6oV",
        "outputId": "8011cef7-1c59-49c7-c689-b748688fb084"
      },
      "outputs": [
        {
          "data": {
            "text/plain": [
              "18.075520389937232"
            ]
          },
          "execution_count": 69,
          "metadata": {},
          "output_type": "execute_result"
        }
      ],
      "source": [
        "mean_squared_error(y, y_pred_mars)"
      ]
    },
    {
      "cell_type": "code",
      "execution_count": 70,
      "metadata": {
        "colab": {
          "base_uri": "https://localhost:8080/"
        },
        "id": "Od4rCpV9ZagF",
        "outputId": "07c04870-1561-42da-b3b3-06995b21d384"
      },
      "outputs": [
        {
          "name": "stdout",
          "output_type": "stream",
          "text": [
            "Earth Model\n",
            "-------------------------------------\n",
            "Basis Function  Pruned  Coefficient  \n",
            "-------------------------------------\n",
            "(Intercept)     No      14.2276      \n",
            "radio           Yes     None         \n",
            "h(radio-47.8)   Yes     None         \n",
            "h(47.8-radio)   Yes     None         \n",
            "h(radio-46.2)   Yes     None         \n",
            "h(46.2-radio)   Yes     None         \n",
            "h(radio-40.3)   Yes     None         \n",
            "h(40.3-radio)   Yes     None         \n",
            "h(radio-32.8)   Yes     None         \n",
            "h(32.8-radio)   Yes     None         \n",
            "h(radio-38)     Yes     None         \n",
            "h(38-radio)     Yes     None         \n",
            "h(radio-26.7)   No      0.238386     \n",
            "h(26.7-radio)   Yes     None         \n",
            "h(radio-27.7)   Yes     None         \n",
            "h(27.7-radio)   Yes     None         \n",
            "h(radio-22.5)   Yes     None         \n",
            "h(22.5-radio)   No      -0.223737    \n",
            "h(radio-20.1)   Yes     None         \n",
            "h(20.1-radio)   Yes     None         \n",
            "h(radio-29.9)   Yes     None         \n",
            "h(29.9-radio)   Yes     None         \n",
            "h(radio-28.8)   Yes     None         \n",
            "h(28.8-radio)   Yes     None         \n",
            "h(radio-7.3)    Yes     None         \n",
            "h(7.3-radio)    Yes     None         \n",
            "-------------------------------------\n",
            "MSE: 18.0755, GCV: 19.2109, RSQ: 0.3327, GRSQ: 0.2978\n"
          ]
        }
      ],
      "source": [
        "print(MARS_model_fitted.summary())"
      ]
    }
  ],
  "metadata": {
    "colab": {
      "collapsed_sections": [],
      "name": "MARS-Notebook.ipynb",
      "provenance": []
    },
    "kernelspec": {
      "display_name": "Python 3",
      "name": "python3"
    },
    "language_info": {
      "codemirror_mode": {
        "name": "ipython",
        "version": 3
      },
      "file_extension": ".py",
      "mimetype": "text/x-python",
      "name": "python",
      "nbconvert_exporter": "python",
      "pygments_lexer": "ipython3",
      "version": "3.6.8"
    }
  },
  "nbformat": 4,
  "nbformat_minor": 0
}
